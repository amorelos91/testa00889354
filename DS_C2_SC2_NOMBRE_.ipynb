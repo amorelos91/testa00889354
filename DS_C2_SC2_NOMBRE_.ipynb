{
  "nbformat": 4,
  "nbformat_minor": 0,
  "metadata": {
    "colab": {
      "provenance": [],
      "mount_file_id": "1e2p_I2mCkF2C1yop7nEPVBTeoMtVXm3L",
      "authorship_tag": "ABX9TyO/nOhDrjC9Mm6UuwYr8r+i",
      "include_colab_link": true
    },
    "kernelspec": {
      "name": "python3",
      "display_name": "Python 3"
    },
    "language_info": {
      "name": "python"
    }
  },
  "cells": [
    {
      "cell_type": "markdown",
      "metadata": {
        "id": "view-in-github",
        "colab_type": "text"
      },
      "source": [
        "<a href=\"https://colab.research.google.com/github/amorelos91/testa00889354/blob/main/DS_C2_SC2_NOMBRE_.ipynb\" target=\"_parent\"><img src=\"https://colab.research.google.com/assets/colab-badge.svg\" alt=\"Open In Colab\"/></a>"
      ]
    },
    {
      "cell_type": "code",
      "execution_count": 167,
      "metadata": {
        "id": "rJ2P2nGqdT5P"
      },
      "outputs": [],
      "source": [
        "#importar bibliotecas\n",
        "import numpy as np\n",
        "import pandas as pd\n"
      ]
    },
    {
      "cell_type": "code",
      "source": [
        "!pip show pandas\n",
        "!pip show numpy\n"
      ],
      "metadata": {
        "id": "7QKAk-vZgGhH"
      },
      "execution_count": null,
      "outputs": []
    },
    {
      "cell_type": "code",
      "source": [
        "#INCISO A) y B) extrae información\n",
        "import pandas as pd\n",
        "df = pd.read_csv(\"/content/drive/MyDrive/CAPACITACION/Learning Gate V1/M2 Procesamiento y manipulación de datos con Python/Pandas y Numpy en Python/Reto de aplicacion/country_vaccinations.csv\", parse_dates= [\"date\"])\n"
      ],
      "metadata": {
        "id": "wX5tkaMqgT_Y"
      },
      "execution_count": 169,
      "outputs": []
    },
    {
      "cell_type": "code",
      "source": [
        "df.head()"
      ],
      "metadata": {
        "id": "d18npE-ghn6H"
      },
      "execution_count": null,
      "outputs": []
    },
    {
      "cell_type": "code",
      "source": [
        "#forma de la base de datos\n",
        "df.shape\n"
      ],
      "metadata": {
        "id": "CliNplUVdc8g"
      },
      "execution_count": null,
      "outputs": []
    },
    {
      "cell_type": "code",
      "source": [
        "#verificar que la fecha esta en format datetime64\n",
        "\n",
        "df.info()"
      ],
      "metadata": {
        "id": "LeF6wYZWhX81"
      },
      "execution_count": null,
      "outputs": []
    },
    {
      "cell_type": "code",
      "source": [
        "# C) conseguir conteo de todas las vacunas differentes segun la columna \"vaccines\"\n",
        "\n",
        "df1 = df[\"vaccines\"].str.split(\",\").explode().str.strip()\n",
        "\n",
        "df1.value_counts()\n"
      ],
      "metadata": {
        "id": "vU8a8anoEVdn"
      },
      "execution_count": null,
      "outputs": []
    },
    {
      "cell_type": "code",
      "source": [
        "# D) total de vacunas en todo el mundo\n",
        "\n",
        "df[\"people_vaccinated\"].sum()\n"
      ],
      "metadata": {
        "id": "frZ-hkFANZPp"
      },
      "execution_count": null,
      "outputs": []
    },
    {
      "cell_type": "code",
      "source": [
        "# E) Promedio de vacunas aplicadas por pais\n",
        "\n",
        "df[[\"country\" , \"daily_vaccinations\"]].groupby([\"country\"]).mean()"
      ],
      "metadata": {
        "id": "fnRhiwCVNcaK"
      },
      "execution_count": null,
      "outputs": []
    },
    {
      "cell_type": "code",
      "source": [
        "#F) cantidad de vacunas aplicadas el 29/01/2021\n",
        "\n",
        "df_spec_date = df.query(\"date == '2021-01-29'\")\n",
        "\n",
        "\n",
        "df_spec_date['daily_vaccinations'].sum()\n",
        "\n",
        "\n",
        "\n"
      ],
      "metadata": {
        "id": "3fRArTHbUrZ3"
      },
      "execution_count": null,
      "outputs": []
    },
    {
      "cell_type": "code",
      "source": [
        "# G) Crear un dataframe nuevo denominado conDiferencias que contenga los datos originales y una columna derivada (diferencias) con las diferencias de aplicación entre las columnas daily_vaccionations y daily_vaccionations_raw.\n",
        "Diferencias = df[\"daily_vaccinations\"] - df[\"daily_vaccinations_raw\"]\n",
        "\n",
        "Condiferencias = df.assign(Diferencias = Diferencias)\n",
        "\n",
        "Condiferencias"
      ],
      "metadata": {
        "id": "gpgbmLkrOkX2"
      },
      "execution_count": null,
      "outputs": []
    },
    {
      "cell_type": "code",
      "source": [
        "# H) Obtener el periodo de tiempo entre el registro con fecha más reciente y el registro con fecha más antigua.\n",
        "\n",
        "Period = df[\"date\"].max() - df[\"date\"].min()\n",
        "Period"
      ],
      "metadata": {
        "colab": {
          "base_uri": "https://localhost:8080/"
        },
        "id": "20H6zfqLfeh6",
        "outputId": "c1bce8a7-33d8-4c10-951f-b69ac5f63c39"
      },
      "execution_count": 178,
      "outputs": [
        {
          "output_type": "execute_result",
          "data": {
            "text/plain": [
              "Timedelta('482 days 00:00:00')"
            ]
          },
          "metadata": {},
          "execution_count": 178
        }
      ]
    },
    {
      "cell_type": "code",
      "source": [
        "# I) Crear un dataframe nuevo denominado conCantidad que contenga los datos originales y una columna derivada (canVac) con la cantidad de vacunas utilizadas cada día (usar la columna vaccines y separar por el carácter , ).\n",
        "# NOTA A PROFESOR: La pregunta pregunta \"la cantidad de vacunas utilizadas cada día (usar la columna vaccines y separar por el carácter (\",\"\")). Esto no se entiende bien, ya que es imposible de saber cuantas de cada una de las vacunas de diferentes marcas se utilizaron. supondremos que se quiere la cantidad de marcas diferentes por dia\n",
        "\n",
        "canVac = df[\"vaccines\"].str.strip().str.split(\",\").apply(len)\n",
        "\n",
        "ConCantidad = df.assign(canVac=canVac)\n",
        "\n",
        "ConCantidad\n"
      ],
      "metadata": {
        "id": "WYE6eftUgN75"
      },
      "execution_count": null,
      "outputs": []
    },
    {
      "cell_type": "code",
      "source": [
        "#J)  Generar un dataframe denominado antes20 con todos los registros que se hayan realizado antes del 20 de diciembre de 2020.\n",
        "\n",
        "antes20 = df.query(\"date < '2020-12-20'\")\n",
        "antes20[\"date\"].max()"
      ],
      "metadata": {
        "colab": {
          "base_uri": "https://localhost:8080/"
        },
        "id": "MZj4c_MqsBgt",
        "outputId": "55136c12-071e-4e12-b127-e605a1b3db21"
      },
      "execution_count": 180,
      "outputs": [
        {
          "output_type": "execute_result",
          "data": {
            "text/plain": [
              "Timestamp('2020-12-19 00:00:00')"
            ]
          },
          "metadata": {},
          "execution_count": 180
        }
      ]
    },
    {
      "cell_type": "code",
      "source": [
        "# K) Obtener un dataframe denominado pfizer con todos los registros donde se haya utilizado la vacuna Pfizer.\n",
        "\n",
        "pfizer = df[df[\"vaccines\"].str.contains(\"pfizer\", case=False)]\n",
        "\n",
        "pfizer"
      ],
      "metadata": {
        "id": "bl3dS9OftQPG"
      },
      "execution_count": null,
      "outputs": []
    },
    {
      "cell_type": "code",
      "source": [
        "#Almacenar los dataframes generados (conDiferencias, conCantidad, antes20 y pfizer) en un archivo de Excel denominado resultadosReto.xlsx, donde cada dataframe ocupe una hoja diferente. Se recomienda ver la documentación de pd.ExcelWriter.\n",
        "\n",
        "excel_writer = pd.ExcelWriter('/content/drive/MyDrive/CAPACITACION/Learning Gate V1/M2 Procesamiento y manipulación de datos con Python/Pandas y Numpy en Python/Reto de aplicacion/resultadosReto.xlsx')\n",
        "Condiferencias.to_excel(excel_writer, sheet_name='Condiferencias', index=False)\n",
        "ConCantidad.to_excel(excel_writer, sheet_name='ConCantidad', index=False)\n",
        "antes20.to_excel(excel_writer, sheet_name='antes20', index=False)\n",
        "pfizer.to_excel(excel_writer, sheet_name='pfizer', index=False)\n",
        "excel_writer.save()\n"
      ],
      "metadata": {
        "id": "XNUsYqsOpiZS"
      },
      "execution_count": null,
      "outputs": []
    }
  ]
}